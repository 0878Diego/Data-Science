{
 "cells": [
  {
   "cell_type": "markdown",
   "metadata": {},
   "source": [
    "<center>\n",
    "    <img src=\"https://cf-courses-data.s3.us.cloud-object-storage.appdomain.cloud/IBMDeveloperSkillsNetwork-DS0105EN-SkillsNetwork/labs/Module2/images/SN_web_lightmode.png\" width=\"300\" alt=\"cognitiveclass.ai logo\">\n",
    "</center>\n"
   ]
  },
  {
   "cell_type": "markdown",
   "metadata": {},
   "source": [
    "Data Science Tools and Ecosystem"
   ]
  },
  {
   "cell_type": "markdown",
   "metadata": {},
   "source": [
    "En este cuaderno, se resumen las herramientas y ecosistemas de ciencia de datos."
   ]
  },
  {
   "cell_type": "markdown",
   "metadata": {},
   "source": [
    "**Objetivos**\n",
    "- Creará un Jupyter Notebook\n",
    "+ Insertará celdas de código y celdas de markdown\n",
    "* Compartirá su notebook a través de GitHub"
   ]
  },
  {
   "cell_type": "markdown",
   "metadata": {},
   "source": [
    "***Listar lenguajes populares para Ciencia de Datos***\n",
    " Algunos elementos cubiertos en este cuaderno:\n",
    "\n",
    "1. **Lenguajes populares para Ciencia de Datos**:\n",
    "   - Python\n",
    "   - R\n",
    "   - Julia\n",
    "\n",
    "2. **Bibliotecas comunes para Ciencia de Datos**:\n",
    "   - pandas\n",
    "   - NumPy\n",
    "   - Matplotlib\n",
    "\n",
    "3. **Herramientas de código abierto utilizadas en Ciencia de Datos**:\n",
    "   - Jupyter Notebooks\n",
    "   - RStudio\n",
    "   - VSCode\n"
   ]
  },
  {
   "cell_type": "markdown",
   "metadata": {},
   "source": [
    "Algunos de los lenguajes populares que utilizan los científicos de datos son:\n",
    "Python: Es el lenguaje más utilizado en la ciencia de datos debido a su simplicidad y las poderosas bibliotecas que ofrece, como pandas, NumPy, Matplotlib, Scikit-learn y TensorFlow.\n",
    "\n",
    "R: Es muy popular entre los estadísticos y científicos de datos, especialmente para análisis estadístico, visualización de datos y modelado. Bibliotecas como ggplot2, dplyr y caret son muy comunes en R.\n",
    "\n",
    "SQL: Aunque no es un lenguaje de programación general, SQL es esencial para trabajar con bases de datos y consultar grandes volúmenes de datos, lo que es clave en la ciencia de datos.\n",
    "\n",
    "Julia: Aunque menos común que Python o R, Julia es un lenguaje de alto rendimiento utilizado para tareas de computación científica y numérica, especialmente cuando se necesitan cálculos complejos a gran velocidad."
   ]
  },
  {
   "cell_type": "markdown",
   "metadata": {},
   "source": [
    "Algunas de las bibliotecas comúnmente utilizadas por los científicos de datos incluyen:\n",
    "1. **pandas** (Python)\n",
    "   - **Función**: Manipulación y análisis de datos estructurados. Ofrece estructuras de datos como **DataFrame** que facilitan la manipulación y limpieza de grandes conjuntos de datos.\n",
    "   \n",
    "2. **NumPy** (Python)\n",
    "   - **Función**: Computación numérica. Proporciona soporte para matrices multidimensionales y funciones matemáticas eficientes, lo que es esencial para el cálculo científico.\n",
    "\n",
    "3. **Matplotlib** (Python)\n",
    "   - **Función**: Visualización de datos. Permite crear gráficos estáticos, como líneas, barras, histogramas y diagramas de dispersión, entre otros.\n",
    "\n",
    "4. **Seaborn** (Python)\n",
    "   - **Función**: Visualización avanzada de datos. Construido sobre **Matplotlib**, facilita la creación de gráficos más complejos y estéticamente atractivos, como mapas de calor y diagramas de correlación.\n",
    "\n",
    "5. **Scikit-learn** (Python)\n",
    "   - **Función**: Aprendizaje automático. Ofrece algoritmos para clasificación, regresión, agrupamiento, reducción de dimensionalidad y selección de modelos.\n",
    "\n",
    "6. **TensorFlow** (Python)\n",
    "   - **Función**: Deep learning (aprendizaje profundo). Es una de las bibliotecas más populares para construir y entrenar redes neuronales y modelos de machine learning.\n",
    "\n",
    "7. **Keras** (Python)\n",
    "   - **Función**: Interfaz de alto nivel para **TensorFlow**. Facilita la construcción y entrenamiento de modelos de aprendizaje profundo con una API más sencilla.\n",
    "\n",
    "8. **PyTorch** (Python)\n",
    "   - **Función**: Deep learning. Es una biblioteca popular para construir y entrenar redes neuronales, conocida por su flexibilidad y uso en investigación.\n",
    "\n",
    "9. **SciPy** (Python)\n",
    "   - **Función**: Cálculo científico. Extiende **NumPy** y proporciona funciones para optimización, integración, interpolación, álgebra lineal y otras operaciones matemáticas avanzadas.\n",
    "\n",
    "10. **ggplot2** (R)\n",
    "   - **Función**: Visualización de datos. Es una de las bibliotecas más utilizadas en R para crear gráficos complejos basados en la gramática de gráficos.\n",
    "\n",
    "11. **dplyr** (R)\n",
    "   - **Función**: Manipulación de datos. Facilita el filtrado, ordenación, agrupación y resumen de datos en R con una sintaxis clara y eficiente.\n",
    "\n",
    "12. **caret** (R)\n",
    "   - **Función**: Aprendizaje automático. Ofrece herramientas para crear, evaluar y mejorar modelos de machine learning, y es compatible con muchos algoritmos.\n",
    "\n",
    "13. **Apache Spark** (Scala/Java/Python)\n",
    "   - **Función**: Procesamiento de big data. Permite procesar grandes volúmenes de datos distribuidos, tanto en clústeres locales como en la nube.\n",
    "\n",
    "14. **Hadoop** (Java)\n",
    "   - **Función**: Big data. Es un marco de procesamiento de grandes cantidades de datos distribuidos, y se utiliza junto con **MapReduce** para procesamiento paralelo.\n",
    "\n",
    "15. **XGBoost** (Python/R)\n",
    "   - **Función**: Aprendizaje automático. Es un algoritmo basado en árboles de decisión extremadamente popular y eficiente para problemas de clasificación y regresión."
   ]
  },
  {
   "cell_type": "markdown",
   "metadata": {},
   "source": [
    "Herramientas de Ciencia de Datos\n",
    "1. Jupyter Notebooks\n",
    "Función: Jupyter Notebooks es un entorno interactivo de código abierto que permite crear y compartir documentos que contienen código, ecuaciones, visualizaciones y texto narrativo. Es ampliamente utilizado en ciencia de datos para análisis exploratorio, visualización de datos y creación de prototipos de modelos.\n",
    "Lenguajes soportados: Python, R, Julia, y muchos otros a través de \"kernels\".\n",
    "2. RStudio\n",
    "Función: RStudio es un entorno de desarrollo integrado (IDE) de código abierto especialmente diseñado para trabajar con el lenguaje de programación R, ampliamente utilizado en análisis estadístico, visualización de datos y ciencia de datos.\n",
    "Características: Soporta scripts, visualizaciones, y administración de proyectos de datos. También tiene integración con herramientas como Shiny para aplicaciones web interactivas.\n",
    "3. VSCode (Visual Studio Code)\n",
    "Función: VSCode es un editor de código fuente gratuito y de código abierto que es muy popular entre los científicos de datos debido a su flexibilidad y extensibilidad. Ofrece soporte para múltiples lenguajes, depuración, control de versiones y otras características esenciales.\n",
    "Características: Se puede personalizar con extensiones para Python, Jupyter Notebooks, R, y muchas otras herramientas útiles para la ciencia de datos."
   ]
  },
  {
   "cell_type": "markdown",
   "metadata": {},
   "source": [
    "### A continuación, se presentan algunos ejemplos de evaluación de expresiones aritméticas en Python\n",
    "# Suma de dos números\n",
    "resultado = 5 + 3\n",
    "print(resultado)  # Output: 8\n",
    "# Resta de dos números\n",
    "resultado = 10 - 4\n",
    "print(resultado)  # Output: 6\n",
    "# Multiplicación de dos números\n",
    "resultado = 7 * 6\n",
    "print(resultado)  # Output: 42\n"
   ]
  },
  {
   "cell_type": "markdown",
   "metadata": {},
   "source": [
    "En esta celda de código evalúa la expresión (3*4)+5\n",
    "Esta es una expresión aritmética simple para multiplicar y luego sumar enteros\n",
    "resultado = (3*4)+5\n",
    "print(resultado) # Output: 17"
   ]
  },
  {
   "cell_type": "markdown",
   "metadata": {},
   "source": [
    "Esto convertirá 200 minutos a horas dividiendo por 60\n",
    "# Convertir 200 minutos a horas\n",
    "minutos = 200\n",
    "horas = minutos / 60\n",
    "horas = 3.3333333333333335"
   ]
  },
  {
   "cell_type": "markdown",
   "metadata": {},
   "source": [
    "## Autor\n",
    "Diego Silva"
   ]
  }
 ],
 "metadata": {
  "kernelspec": {
   "display_name": "Python 3 (ipykernel)",
   "language": "python",
   "name": "python3"
  },
  "language_info": {
   "codemirror_mode": {
    "name": "ipython",
    "version": 3
   },
   "file_extension": ".py",
   "mimetype": "text/x-python",
   "name": "python",
   "nbconvert_exporter": "python",
   "pygments_lexer": "ipython3",
   "version": "3.12.8"
  }
 },
 "nbformat": 4,
 "nbformat_minor": 4
}
